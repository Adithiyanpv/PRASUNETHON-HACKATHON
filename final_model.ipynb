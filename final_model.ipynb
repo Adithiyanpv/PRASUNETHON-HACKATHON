{
 "cells": [
  {
   "cell_type": "code",
   "execution_count": 2,
   "metadata": {},
   "outputs": [
    {
     "name": "stdout",
     "output_type": "stream",
     "text": [
      "  Transaction_Type   Amount  Initial_Balance_Sender  Initial_Balance_Receiver  \\\n",
      "0         Transfer  4996.51                 9840.59                  16314.50   \n",
      "1         Cash-Out  1065.00                18536.20                  16758.36   \n",
      "2         Cash-Out  1285.39                 1883.40                  19973.44   \n",
      "3          Cash-In  2536.79                 5243.31                  17005.73   \n",
      "4          Payment   235.51                18490.88                  14945.99   \n",
      "\n",
      "   Final_Balance_Sender  Final_Balance_Receiver  Fraud  \n",
      "0               4844.08                21311.01      0  \n",
      "1              17471.20                16758.36      0  \n",
      "2                598.01                19973.44      0  \n",
      "3               5243.31                19542.52      0  \n",
      "4              18255.37                15181.50      0  \n"
     ]
    }
   ],
   "source": [
    "import pandas as pd\n",
    "import numpy as np\n",
    "\n",
    "# Load the dataset\n",
    "data = pd.read_csv('realistic_transaction_dataset.csv')\n",
    "\n",
    "# Display the first few rows of the dataset\n",
    "print(data.head())"
   ]
  },
  {
   "cell_type": "code",
   "execution_count": 3,
   "metadata": {},
   "outputs": [
    {
     "name": "stdout",
     "output_type": "stream",
     "text": [
      "Accuracy: 1.0\n",
      "Precision: 1.0\n",
      "Recall: 1.0\n",
      "F1 Score: 1.0\n",
      "Confusion Matrix: \n",
      "[[1179    0]\n",
      " [   0  821]]\n"
     ]
    }
   ],
   "source": [
    "data = pd.get_dummies(data, columns=['Transaction_Type'])\n",
    "import pandas as pd\n",
    "from sklearn.model_selection import train_test_split\n",
    "from sklearn.ensemble import RandomForestClassifier\n",
    "from sklearn.metrics import accuracy_score, precision_score, recall_score, f1_score, confusion_matrix\n",
    "# Select features and target\n",
    "features = data.drop(columns=['Fraud'])\n",
    "target = data['Fraud']\n",
    "\n",
    "# Split the data\n",
    "X_train, X_test, y_train, y_test = train_test_split(features, target, test_size=0.2, random_state=42)\n",
    "\n",
    "# Create and train the model\n",
    "rf_model = RandomForestClassifier(n_estimators=100, random_state=42)\n",
    "rf_model.fit(X_train, y_train)\n",
    "\n",
    "# Make predictions\n",
    "y_pred = rf_model.predict(X_test)\n",
    "\n",
    "# Evaluate the model\n",
    "accuracy = accuracy_score(y_test, y_pred)\n",
    "precision = precision_score(y_test, y_pred)\n",
    "recall = recall_score(y_test, y_pred)\n",
    "f1 = f1_score(y_test, y_pred)\n",
    "conf_matrix = confusion_matrix(y_test, y_pred)\n",
    "\n",
    "print(f'Accuracy: {accuracy}')\n",
    "print(f'Precision: {precision}')\n",
    "print(f'Recall: {recall}')\n",
    "print(f'F1 Score: {f1}')\n",
    "print(f'Confusion Matrix: \\n{conf_matrix}')"
   ]
  },
  {
   "cell_type": "code",
   "execution_count": 5,
   "metadata": {},
   "outputs": [
    {
     "data": {
      "text/plain": [
       "['random_forest_model.joblib']"
      ]
     },
     "execution_count": 5,
     "metadata": {},
     "output_type": "execute_result"
    }
   ],
   "source": [
    "import joblib\n",
    "\n",
    "# Save the trained model to a file\n",
    "joblib.dump(rf_model, 'random_forest_model.joblib')"
   ]
  },
  {
   "cell_type": "code",
   "execution_count": 4,
   "metadata": {},
   "outputs": [
    {
     "data": {
      "text/html": [
       "<div>\n",
       "<style scoped>\n",
       "    .dataframe tbody tr th:only-of-type {\n",
       "        vertical-align: middle;\n",
       "    }\n",
       "\n",
       "    .dataframe tbody tr th {\n",
       "        vertical-align: top;\n",
       "    }\n",
       "\n",
       "    .dataframe thead th {\n",
       "        text-align: right;\n",
       "    }\n",
       "</style>\n",
       "<table border=\"1\" class=\"dataframe\">\n",
       "  <thead>\n",
       "    <tr style=\"text-align: right;\">\n",
       "      <th></th>\n",
       "      <th>Amount</th>\n",
       "      <th>Initial_Balance_Sender</th>\n",
       "      <th>Initial_Balance_Receiver</th>\n",
       "      <th>Final_Balance_Sender</th>\n",
       "      <th>Final_Balance_Receiver</th>\n",
       "      <th>Fraud</th>\n",
       "      <th>Transaction_Type_Cash-In</th>\n",
       "      <th>Transaction_Type_Cash-Out</th>\n",
       "      <th>Transaction_Type_Debit</th>\n",
       "      <th>Transaction_Type_Payment</th>\n",
       "      <th>Transaction_Type_Transfer</th>\n",
       "    </tr>\n",
       "  </thead>\n",
       "  <tbody>\n",
       "    <tr>\n",
       "      <th>9995</th>\n",
       "      <td>627.87</td>\n",
       "      <td>17481.31</td>\n",
       "      <td>3140.71</td>\n",
       "      <td>16853.44</td>\n",
       "      <td>3768.58</td>\n",
       "      <td>0</td>\n",
       "      <td>False</td>\n",
       "      <td>False</td>\n",
       "      <td>False</td>\n",
       "      <td>True</td>\n",
       "      <td>False</td>\n",
       "    </tr>\n",
       "    <tr>\n",
       "      <th>9996</th>\n",
       "      <td>44351.44</td>\n",
       "      <td>15960.71</td>\n",
       "      <td>5365.38</td>\n",
       "      <td>12168.77</td>\n",
       "      <td>5365.38</td>\n",
       "      <td>1</td>\n",
       "      <td>False</td>\n",
       "      <td>False</td>\n",
       "      <td>True</td>\n",
       "      <td>False</td>\n",
       "      <td>False</td>\n",
       "    </tr>\n",
       "    <tr>\n",
       "      <th>9997</th>\n",
       "      <td>45131.69</td>\n",
       "      <td>14095.61</td>\n",
       "      <td>16318.96</td>\n",
       "      <td>0.00</td>\n",
       "      <td>65963.82</td>\n",
       "      <td>1</td>\n",
       "      <td>False</td>\n",
       "      <td>False</td>\n",
       "      <td>False</td>\n",
       "      <td>False</td>\n",
       "      <td>True</td>\n",
       "    </tr>\n",
       "    <tr>\n",
       "      <th>9998</th>\n",
       "      <td>837.14</td>\n",
       "      <td>12117.56</td>\n",
       "      <td>10641.63</td>\n",
       "      <td>11280.42</td>\n",
       "      <td>11478.77</td>\n",
       "      <td>0</td>\n",
       "      <td>False</td>\n",
       "      <td>False</td>\n",
       "      <td>False</td>\n",
       "      <td>True</td>\n",
       "      <td>False</td>\n",
       "    </tr>\n",
       "    <tr>\n",
       "      <th>9999</th>\n",
       "      <td>46619.86</td>\n",
       "      <td>7782.86</td>\n",
       "      <td>3915.07</td>\n",
       "      <td>7782.86</td>\n",
       "      <td>55196.92</td>\n",
       "      <td>1</td>\n",
       "      <td>True</td>\n",
       "      <td>False</td>\n",
       "      <td>False</td>\n",
       "      <td>False</td>\n",
       "      <td>False</td>\n",
       "    </tr>\n",
       "  </tbody>\n",
       "</table>\n",
       "</div>"
      ],
      "text/plain": [
       "        Amount  Initial_Balance_Sender  Initial_Balance_Receiver  \\\n",
       "9995    627.87                17481.31                   3140.71   \n",
       "9996  44351.44                15960.71                   5365.38   \n",
       "9997  45131.69                14095.61                  16318.96   \n",
       "9998    837.14                12117.56                  10641.63   \n",
       "9999  46619.86                 7782.86                   3915.07   \n",
       "\n",
       "      Final_Balance_Sender  Final_Balance_Receiver  Fraud  \\\n",
       "9995              16853.44                 3768.58      0   \n",
       "9996              12168.77                 5365.38      1   \n",
       "9997                  0.00                65963.82      1   \n",
       "9998              11280.42                11478.77      0   \n",
       "9999               7782.86                55196.92      1   \n",
       "\n",
       "      Transaction_Type_Cash-In  Transaction_Type_Cash-Out  \\\n",
       "9995                     False                      False   \n",
       "9996                     False                      False   \n",
       "9997                     False                      False   \n",
       "9998                     False                      False   \n",
       "9999                      True                      False   \n",
       "\n",
       "      Transaction_Type_Debit  Transaction_Type_Payment  \\\n",
       "9995                   False                      True   \n",
       "9996                    True                     False   \n",
       "9997                   False                     False   \n",
       "9998                   False                      True   \n",
       "9999                   False                     False   \n",
       "\n",
       "      Transaction_Type_Transfer  \n",
       "9995                      False  \n",
       "9996                      False  \n",
       "9997                       True  \n",
       "9998                      False  \n",
       "9999                      False  "
      ]
     },
     "execution_count": 4,
     "metadata": {},
     "output_type": "execute_result"
    }
   ],
   "source": [
    "data.tail()"
   ]
  }
 ],
 "metadata": {
  "kernelspec": {
   "display_name": "Python 3",
   "language": "python",
   "name": "python3"
  },
  "language_info": {
   "codemirror_mode": {
    "name": "ipython",
    "version": 3
   },
   "file_extension": ".py",
   "mimetype": "text/x-python",
   "name": "python",
   "nbconvert_exporter": "python",
   "pygments_lexer": "ipython3",
   "version": "3.11.5"
  }
 },
 "nbformat": 4,
 "nbformat_minor": 2
}
